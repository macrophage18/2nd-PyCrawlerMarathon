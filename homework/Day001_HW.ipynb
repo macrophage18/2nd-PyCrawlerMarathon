{
 "cells": [
  {
   "cell_type": "code",
   "execution_count": 1,
   "metadata": {},
   "outputs": [],
   "source": [
    "from urllib.request import urlretrieve\n",
    "import os\n",
    "\n",
    "try:\n",
    "    os.makedirs('D:\\Data', exist_ok=True )\n",
    "    urlretrieve (\"https://www.w3.org/TR/PNG/iso_8859-1.txt\", \"D:\\Data\\Homework.txt\")\n",
    "except:\n",
    "    print('發生錯誤')"
   ]
  },
  {
   "cell_type": "code",
   "execution_count": 2,
   "metadata": {},
   "outputs": [
    {
     "name": "stdout",
     "output_type": "stream",
     "text": [
      "O\n"
     ]
    }
   ],
   "source": [
    "files = os.listdir('D:\\Data')\n",
    "if 'Homework.txt' in files:\n",
    "    print('O')\n",
    "else:\n",
    "    print('X')"
   ]
  },
  {
   "cell_type": "code",
   "execution_count": 1,
   "metadata": {},
   "outputs": [],
   "source": [
    "f = ''\n",
    "\n",
    "with open(\"D:\\Data\\Homework.txt\", \"w\") as fh:\n",
    "    fh.write(\"Hello World\")\n",
    "\n",
    "try:\n",
    "    with open(\"D:\\Data\\Homework.txt\", \"r\") as fh:\n",
    "        f = fh.read()\n",
    "except EnvironmentError:\n",
    "    pass"
   ]
  },
  {
   "cell_type": "code",
   "execution_count": 2,
   "metadata": {},
   "outputs": [
    {
     "name": "stdout",
     "output_type": "stream",
     "text": [
      "O\n"
     ]
    }
   ],
   "source": [
    "if len('Hello World') == len(f):\n",
    "    print('O')\n",
    "else:\n",
    "    print('X')"
   ]
  },
  {
   "cell_type": "code",
   "execution_count": null,
   "metadata": {},
   "outputs": [],
   "source": []
  }
 ],
 "metadata": {
  "kernelspec": {
   "display_name": "Python 3",
   "language": "python",
   "name": "python3"
  },
  "language_info": {
   "codemirror_mode": {
    "name": "ipython",
    "version": 3
   },
   "file_extension": ".py",
   "mimetype": "text/x-python",
   "name": "python",
   "nbconvert_exporter": "python",
   "pygments_lexer": "ipython3",
   "version": "3.7.4"
  }
 },
 "nbformat": 4,
 "nbformat_minor": 2
}
