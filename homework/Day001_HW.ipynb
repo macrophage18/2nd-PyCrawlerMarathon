{
 "cells": [
  {
   "cell_type": "code",
   "execution_count": 15,
   "metadata": {},
   "outputs": [
    {
     "name": "stdout",
     "output_type": "stream",
     "text": [
      "11\n",
      "Hello World\n"
     ]
    }
   ],
   "source": [
    "#檔案、API、爬蟲三種取得資料方式有什麼不同?\n",
    "#檔案:資料會以檔案的形式提供下載，常見檔案格式為CVS、JSON等，由擁有者主動提供下載。\n",
    "#API:會有特定的接口提供下載特定的部分，由擁有者主動提供下載。\n",
    "#爬蟲:在網頁上可以找到，以爬蟲的程式下載特定資料，擁有者被動公開。\n",
    "\n",
    "from urllib.request import urlretrieve\n",
    "\n",
    "urlretrieve(\"https://www.w3.org/TR/PNG/iso_8859-1.txt\",\"Homework.txt\")\n",
    "\n",
    "with open(\"Homework.txt\",\"w\") as fh:\n",
    "    f = fh.write(\"Hello World\")\n",
    "\n",
    "with open(\"Homework.txt\",\"r\") as fh1:\n",
    "    f1 = fh1.read()\n",
    "\n",
    "print(f)\n",
    "print(f1)"
   ]
  },
  {
   "cell_type": "code",
   "execution_count": null,
   "metadata": {},
   "outputs": [],
   "source": []
  }
 ],
 "metadata": {
  "kernelspec": {
   "display_name": "Python 3",
   "language": "python",
   "name": "python3"
  },
  "language_info": {
   "codemirror_mode": {
    "name": "ipython",
    "version": 3
   },
   "file_extension": ".py",
   "mimetype": "text/x-python",
   "name": "python",
   "nbconvert_exporter": "python",
   "pygments_lexer": "ipython3",
   "version": "3.7.4"
  }
 },
 "nbformat": 4,
 "nbformat_minor": 2
}
